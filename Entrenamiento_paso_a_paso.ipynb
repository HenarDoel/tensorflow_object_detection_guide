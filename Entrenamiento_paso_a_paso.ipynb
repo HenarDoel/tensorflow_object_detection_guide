{
 "cells": [
  {
   "cell_type": "code",
   "execution_count": 8,
   "metadata": {},
   "outputs": [
    {
     "name": "stdout",
     "output_type": "stream",
     "text": [
      "Collecting labelme\n",
      "  Using cached labelme-4.5.6.tar.gz (1.5 MB)\n",
      "Collecting imgviz>=0.11.0\n",
      "  Downloading imgviz-1.2.2.tar.gz (7.7 MB)\n",
      "  Installing build dependencies: started\n",
      "  Installing build dependencies: finished with status 'done'\n",
      "  Getting requirements to build wheel: started\n",
      "  Getting requirements to build wheel: finished with status 'done'\n",
      "    Preparing wheel metadata: started\n",
      "    Preparing wheel metadata: finished with status 'done'\n",
      "Requirement already satisfied: matplotlib in c:\\users\\exceltic72\\miniconda3\\envs\\test_tf1\\lib\\site-packages (from labelme) (3.3.1)\n",
      "Requirement already satisfied: numpy in c:\\users\\exceltic72\\miniconda3\\envs\\test_tf1\\lib\\site-packages (from labelme) (1.19.1)\n",
      "Requirement already satisfied: Pillow>=2.8.0 in c:\\users\\exceltic72\\miniconda3\\envs\\test_tf1\\lib\\site-packages (from labelme) (7.2.0)\n",
      "Collecting PyYAML\n",
      "  Using cached PyYAML-5.3.1-cp36-cp36m-win_amd64.whl (215 kB)\n",
      "Requirement already satisfied: qtpy in c:\\users\\exceltic72\\miniconda3\\envs\\test_tf1\\lib\\site-packages (from labelme) (1.9.0)\n",
      "Requirement already satisfied: termcolor in c:\\users\\exceltic72\\miniconda3\\envs\\test_tf1\\lib\\site-packages (from labelme) (1.1.0)\n",
      "Collecting PyQt5\n",
      "  Using cached PyQt5-5.15.0-5.15.0-cp35.cp36.cp37.cp38-none-win_amd64.whl (64.5 MB)\n",
      "Requirement already satisfied: colorama in c:\\users\\exceltic72\\miniconda3\\envs\\test_tf1\\lib\\site-packages (from labelme) (0.4.3)\n",
      "Requirement already satisfied: cycler>=0.10 in c:\\users\\exceltic72\\miniconda3\\envs\\test_tf1\\lib\\site-packages (from matplotlib->labelme) (0.10.0)\n",
      "Requirement already satisfied: kiwisolver>=1.0.1 in c:\\users\\exceltic72\\miniconda3\\envs\\test_tf1\\lib\\site-packages (from matplotlib->labelme) (1.2.0)\n",
      "Requirement already satisfied: certifi>=2020.06.20 in c:\\users\\exceltic72\\miniconda3\\envs\\test_tf1\\lib\\site-packages (from matplotlib->labelme) (2020.6.20)\n",
      "Requirement already satisfied: pyparsing!=2.0.4,!=2.1.2,!=2.1.6,>=2.0.3 in c:\\users\\exceltic72\\miniconda3\\envs\\test_tf1\\lib\\site-packages (from matplotlib->labelme) (2.4.7)\n",
      "Requirement already satisfied: python-dateutil>=2.1 in c:\\users\\exceltic72\\miniconda3\\envs\\test_tf1\\lib\\site-packages (from matplotlib->labelme) (2.8.1)\n",
      "Collecting PyQt5-sip<13,>=12.8\n",
      "  Downloading PyQt5_sip-12.8.1-cp36-cp36m-win_amd64.whl (62 kB)\n",
      "Requirement already satisfied: six in c:\\users\\exceltic72\\miniconda3\\envs\\test_tf1\\lib\\site-packages (from cycler>=0.10->matplotlib->labelme) (1.15.0)\n",
      "Building wheels for collected packages: labelme, imgviz\n",
      "  Building wheel for labelme (setup.py): started\n",
      "  Building wheel for labelme (setup.py): finished with status 'done'\n",
      "  Created wheel for labelme: filename=labelme-4.5.6-py3-none-any.whl size=1464610 sha256=ab151fd56de1169e1654d814e5b9246c14b5610829cce17a066c4a19d323abf9\n",
      "  Stored in directory: c:\\users\\exceltic72\\appdata\\local\\pip\\cache\\wheels\\83\\b7\\44\\8905d450da9adc46fabbc02aa38c1cee5d7c9b054097c17dac\n",
      "  Building wheel for imgviz (PEP 517): started\n",
      "  Building wheel for imgviz (PEP 517): finished with status 'done'\n",
      "  Created wheel for imgviz: filename=imgviz-1.2.2-py3-none-any.whl size=7673804 sha256=97e489d46677e3615973a7167a7d64586aa914401ea7515457a2a9acaa6bed46\n",
      "  Stored in directory: c:\\users\\exceltic72\\appdata\\local\\pip\\cache\\wheels\\ff\\15\\fa\\f0e7f889529404bf2bb14045b42b57a8724957523bec5af67b\n",
      "Successfully built labelme imgviz\n",
      "Installing collected packages: PyYAML, imgviz, PyQt5-sip, PyQt5, labelme\n",
      "Successfully installed PyQt5-5.15.0 PyQt5-sip-12.8.1 PyYAML-5.3.1 imgviz-1.2.2 labelme-4.5.6\n"
     ]
    }
   ],
   "source": [
    "!pip install labelme"
   ]
  },
  {
   "cell_type": "code",
   "execution_count": 6,
   "metadata": {},
   "outputs": [
    {
     "name": "stdout",
     "output_type": "stream",
     "text": [
      "succesfully created validation split using  15.0 % of data\n",
      "succesfully created test split using  10.0 % of data\n",
      "succesfully created train split using 75.0 % of data\n"
     ]
    }
   ],
   "source": [
    "# vamos a dividir nuestras imágenes y anotaciones en splits de train, test y validación.\n",
    "# los argumentos -vr y -tr indican respectivamente los porcentajes de datos reservados para validación y test\n",
    "!python train_test_split.py -i images -o images -tr 0.1 -vr 0.15"
   ]
  },
  {
   "cell_type": "code",
   "execution_count": null,
   "metadata": {},
   "outputs": [],
   "source": [
    "# vamos a convertir estas fotos en y anotaciones en datasets de formato COCO. Tenemos que hacerlo para los sets de train\n",
    "# test y validación. Tenemos que pasar como argumento archivo txt con los labels siguiendo el formato indiado en la\n",
    "# documentación oficial de labelme https://github.com/wkentaro/labelme/tree/master/examples/instance_segmentation. Un ejemplo\n",
    "# de cómo debe ser este archivo se muestra debajo\n",
    "!python labelme2coco.py images/train images/train/coco --labels annotations/labels.txt\n",
    "!python labelme2coco.py images/test images/test/coco --labels annotations/labels.txt\n",
    "!python labelme2coco.py images/val images/val/coco --labels annotations/labels.txt"
   ]
  },
  {
   "cell_type": "markdown",
   "metadata": {},
   "source": [
    "<img src=\"annotations/labels.png\">"
   ]
  },
  {
   "cell_type": "code",
   "execution_count": null,
   "metadata": {},
   "outputs": [],
   "source": [
    "# ahora borramos las imágenes y anotaciones de las carpetas train, test y val, ya que la carpeta coco dentro de cada \n",
    "# una de estas carpetas ya contiene las imágenes origina"
   ]
  }
 ],
 "metadata": {
  "kernelspec": {
   "display_name": "Python 3",
   "language": "python",
   "name": "python3"
  },
  "language_info": {
   "codemirror_mode": {
    "name": "ipython",
    "version": 3
   },
   "file_extension": ".py",
   "mimetype": "text/x-python",
   "name": "python",
   "nbconvert_exporter": "python",
   "pygments_lexer": "ipython3",
   "version": "3.6.10"
  }
 },
 "nbformat": 4,
 "nbformat_minor": 4
}
